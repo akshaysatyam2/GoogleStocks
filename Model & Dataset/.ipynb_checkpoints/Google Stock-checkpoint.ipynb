{
 "cells": [
  {
   "cell_type": "markdown",
   "id": "58035c4b",
   "metadata": {},
   "source": [
    "# Google Stocks"
   ]
  },
  {
   "cell_type": "code",
   "execution_count": 1,
   "id": "e2d8eeda",
   "metadata": {
    "scrolled": true
   },
   "outputs": [],
   "source": [
    "# !pip install tensorflow"
   ]
  },
  {
   "cell_type": "code",
   "execution_count": 2,
   "id": "273270ba",
   "metadata": {},
   "outputs": [],
   "source": [
    "import tensorflow as tf"
   ]
  },
  {
   "cell_type": "code",
   "execution_count": 3,
   "id": "5af94e27",
   "metadata": {
    "scrolled": true
   },
   "outputs": [
    {
     "data": {
      "text/plain": [
       "'2.12.0'"
      ]
     },
     "execution_count": 3,
     "metadata": {},
     "output_type": "execute_result"
    }
   ],
   "source": [
    "tf.__version__"
   ]
  },
  {
   "cell_type": "markdown",
   "id": "8825cb1d",
   "metadata": {},
   "source": [
    "## Part 1 - Data Preprocessing"
   ]
  },
  {
   "cell_type": "code",
   "execution_count": 4,
   "id": "2b89e0a8",
   "metadata": {},
   "outputs": [],
   "source": [
    "import numpy as np\n",
    "import matplotlib.pyplot as plt\n",
    "import pandas as pd"
   ]
  },
  {
   "cell_type": "code",
   "execution_count": 5,
   "id": "61fc1c38",
   "metadata": {},
   "outputs": [],
   "source": [
    "dataset_train = pd.read_csv('Google_Stock_Price_Train.csv')\n",
    "training_set = dataset_train.iloc[:, 1:2].values"
   ]
  },
  {
   "cell_type": "code",
   "execution_count": 6,
   "id": "aba54a04",
   "metadata": {},
   "outputs": [
    {
     "data": {
      "text/html": [
       "<div>\n",
       "<style scoped>\n",
       "    .dataframe tbody tr th:only-of-type {\n",
       "        vertical-align: middle;\n",
       "    }\n",
       "\n",
       "    .dataframe tbody tr th {\n",
       "        vertical-align: top;\n",
       "    }\n",
       "\n",
       "    .dataframe thead th {\n",
       "        text-align: right;\n",
       "    }\n",
       "</style>\n",
       "<table border=\"1\" class=\"dataframe\">\n",
       "  <thead>\n",
       "    <tr style=\"text-align: right;\">\n",
       "      <th></th>\n",
       "      <th>Date</th>\n",
       "      <th>Open</th>\n",
       "      <th>High</th>\n",
       "      <th>Low</th>\n",
       "      <th>Close</th>\n",
       "      <th>Volume</th>\n",
       "    </tr>\n",
       "  </thead>\n",
       "  <tbody>\n",
       "    <tr>\n",
       "      <th>0</th>\n",
       "      <td>1/3/2012</td>\n",
       "      <td>325.25</td>\n",
       "      <td>332.83</td>\n",
       "      <td>324.97</td>\n",
       "      <td>663.59</td>\n",
       "      <td>7,380,500</td>\n",
       "    </tr>\n",
       "    <tr>\n",
       "      <th>1</th>\n",
       "      <td>1/4/2012</td>\n",
       "      <td>331.27</td>\n",
       "      <td>333.87</td>\n",
       "      <td>329.08</td>\n",
       "      <td>666.45</td>\n",
       "      <td>5,749,400</td>\n",
       "    </tr>\n",
       "    <tr>\n",
       "      <th>2</th>\n",
       "      <td>1/5/2012</td>\n",
       "      <td>329.83</td>\n",
       "      <td>330.75</td>\n",
       "      <td>326.89</td>\n",
       "      <td>657.21</td>\n",
       "      <td>6,590,300</td>\n",
       "    </tr>\n",
       "    <tr>\n",
       "      <th>3</th>\n",
       "      <td>1/6/2012</td>\n",
       "      <td>328.34</td>\n",
       "      <td>328.77</td>\n",
       "      <td>323.68</td>\n",
       "      <td>648.24</td>\n",
       "      <td>5,405,900</td>\n",
       "    </tr>\n",
       "    <tr>\n",
       "      <th>4</th>\n",
       "      <td>1/9/2012</td>\n",
       "      <td>322.04</td>\n",
       "      <td>322.29</td>\n",
       "      <td>309.46</td>\n",
       "      <td>620.76</td>\n",
       "      <td>11,688,800</td>\n",
       "    </tr>\n",
       "  </tbody>\n",
       "</table>\n",
       "</div>"
      ],
      "text/plain": [
       "       Date    Open    High     Low   Close      Volume\n",
       "0  1/3/2012  325.25  332.83  324.97  663.59   7,380,500\n",
       "1  1/4/2012  331.27  333.87  329.08  666.45   5,749,400\n",
       "2  1/5/2012  329.83  330.75  326.89  657.21   6,590,300\n",
       "3  1/6/2012  328.34  328.77  323.68  648.24   5,405,900\n",
       "4  1/9/2012  322.04  322.29  309.46  620.76  11,688,800"
      ]
     },
     "execution_count": 6,
     "metadata": {},
     "output_type": "execute_result"
    }
   ],
   "source": [
    "dataset_train.head()"
   ]
  },
  {
   "cell_type": "code",
   "execution_count": 7,
   "id": "45e4d93b",
   "metadata": {},
   "outputs": [
    {
     "data": {
      "text/plain": [
       "array([[325.25],\n",
       "       [331.27],\n",
       "       [329.83],\n",
       "       ...,\n",
       "       [793.7 ],\n",
       "       [783.33],\n",
       "       [782.75]])"
      ]
     },
     "execution_count": 7,
     "metadata": {},
     "output_type": "execute_result"
    }
   ],
   "source": [
    "training_set"
   ]
  },
  {
   "cell_type": "markdown",
   "id": "cb6a0dc0",
   "metadata": {},
   "source": [
    "## Part 2 - Building the RNN"
   ]
  },
  {
   "cell_type": "code",
   "execution_count": 8,
   "id": "f4180192",
   "metadata": {},
   "outputs": [
    {
     "data": {
      "text/plain": [
       "array([[0.08581368],\n",
       "       [0.09701243],\n",
       "       [0.09433366],\n",
       "       ...,\n",
       "       [0.95725128],\n",
       "       [0.93796041],\n",
       "       [0.93688146]])"
      ]
     },
     "execution_count": 8,
     "metadata": {},
     "output_type": "execute_result"
    }
   ],
   "source": [
    "from sklearn.preprocessing import MinMaxScaler\n",
    "sc = MinMaxScaler(feature_range = (0, 1))\n",
    "training_set_scaled = sc.fit_transform(training_set)\n",
    "training_set_scaled"
   ]
  },
  {
   "cell_type": "code",
   "execution_count": 9,
   "id": "6963dda0",
   "metadata": {},
   "outputs": [],
   "source": [
    "X_train = []\n",
    "y_train = []\n",
    "for i in range(60, 1258):\n",
    "    X_train.append(training_set_scaled[i-60:i, 0])\n",
    "    y_train.append(training_set_scaled[i, 0])\n",
    "X_train, y_train = np.array(X_train), np.array(y_train)"
   ]
  },
  {
   "cell_type": "code",
   "execution_count": 10,
   "id": "c67578a1",
   "metadata": {},
   "outputs": [
    {
     "data": {
      "text/plain": [
       "array([[0.08581368, 0.09701243, 0.09433366, ..., 0.07846566, 0.08034452,\n",
       "        0.08497656],\n",
       "       [0.09701243, 0.09433366, 0.09156187, ..., 0.08034452, 0.08497656,\n",
       "        0.08627874],\n",
       "       [0.09433366, 0.09156187, 0.07984225, ..., 0.08497656, 0.08627874,\n",
       "        0.08471612],\n",
       "       ...,\n",
       "       [0.92106928, 0.92438053, 0.93048218, ..., 0.95475854, 0.95204256,\n",
       "        0.95163331],\n",
       "       [0.92438053, 0.93048218, 0.9299055 , ..., 0.95204256, 0.95163331,\n",
       "        0.95725128],\n",
       "       [0.93048218, 0.9299055 , 0.93113327, ..., 0.95163331, 0.95725128,\n",
       "        0.93796041]])"
      ]
     },
     "execution_count": 10,
     "metadata": {},
     "output_type": "execute_result"
    }
   ],
   "source": [
    "X_train"
   ]
  },
  {
   "cell_type": "code",
   "execution_count": 11,
   "id": "d47bd7ee",
   "metadata": {},
   "outputs": [
    {
     "data": {
      "text/plain": [
       "array([0.08627874, 0.08471612, 0.07454052, ..., 0.95725128, 0.93796041,\n",
       "       0.93688146])"
      ]
     },
     "execution_count": 11,
     "metadata": {},
     "output_type": "execute_result"
    }
   ],
   "source": [
    "y_train"
   ]
  },
  {
   "cell_type": "code",
   "execution_count": 12,
   "id": "bd8a1722",
   "metadata": {},
   "outputs": [],
   "source": [
    "regressor = tf.keras.models.Sequential()"
   ]
  },
  {
   "cell_type": "code",
   "execution_count": 13,
   "id": "3d32de82",
   "metadata": {},
   "outputs": [],
   "source": [
    "regressor.add(tf.keras.layers.LSTM(units = 50, return_sequences = True, input_shape = (X_train.shape[1], 1)))\n",
    "regressor.add(tf.keras.layers.Dropout(0.2))"
   ]
  },
  {
   "cell_type": "code",
   "execution_count": 14,
   "id": "d58e90ac",
   "metadata": {},
   "outputs": [],
   "source": [
    "regressor.add(tf.keras.layers.LSTM(units = 50, return_sequences = True))\n",
    "regressor.add(tf.keras.layers.Dropout(0.2))"
   ]
  },
  {
   "cell_type": "code",
   "execution_count": 15,
   "id": "de912410",
   "metadata": {},
   "outputs": [],
   "source": [
    "regressor.add(tf.keras.layers.LSTM(units = 50, return_sequences = True))\n",
    "regressor.add(tf.keras.layers.Dropout(0.2))"
   ]
  },
  {
   "cell_type": "code",
   "execution_count": 16,
   "id": "f7c74d8c",
   "metadata": {},
   "outputs": [],
   "source": [
    "regressor.add(tf.keras.layers.LSTM(units = 50))\n",
    "regressor.add(tf.keras.layers.Dropout(0.2))"
   ]
  },
  {
   "cell_type": "code",
   "execution_count": 17,
   "id": "3e1fa790",
   "metadata": {},
   "outputs": [],
   "source": [
    "regressor.add(tf.keras.layers.Dense(units = 1))"
   ]
  },
  {
   "cell_type": "code",
   "execution_count": 18,
   "id": "8d0f933e",
   "metadata": {},
   "outputs": [],
   "source": [
    "regressor.compile(optimizer = 'adam', loss = 'mean_squared_error', metrics = ['accuracy'])"
   ]
  },
  {
   "cell_type": "code",
   "execution_count": 19,
   "id": "89012505",
   "metadata": {},
   "outputs": [
    {
     "name": "stdout",
     "output_type": "stream",
     "text": [
      "Epoch 1/100\n",
      "38/38 [==============================] - 41s 416ms/step - loss: 0.0351 - accuracy: 0.0017\n",
      "Epoch 2/100\n",
      "38/38 [==============================] - 16s 424ms/step - loss: 0.0060 - accuracy: 0.0017\n",
      "Epoch 3/100\n",
      "38/38 [==============================] - 15s 400ms/step - loss: 0.0056 - accuracy: 0.0017\n",
      "Epoch 4/100\n",
      "38/38 [==============================] - 16s 419ms/step - loss: 0.0055 - accuracy: 0.0017\n",
      "Epoch 5/100\n",
      "38/38 [==============================] - 16s 431ms/step - loss: 0.0048 - accuracy: 0.0017\n",
      "Epoch 6/100\n",
      "38/38 [==============================] - 16s 429ms/step - loss: 0.0046 - accuracy: 0.0017\n",
      "Epoch 7/100\n",
      "38/38 [==============================] - 17s 433ms/step - loss: 0.0049 - accuracy: 0.0017\n",
      "Epoch 8/100\n",
      "38/38 [==============================] - 16s 417ms/step - loss: 0.0043 - accuracy: 0.0017\n",
      "Epoch 9/100\n",
      "38/38 [==============================] - 16s 415ms/step - loss: 0.0050 - accuracy: 0.0017\n",
      "Epoch 10/100\n",
      "38/38 [==============================] - 15s 399ms/step - loss: 0.0041 - accuracy: 0.0017\n",
      "Epoch 11/100\n",
      "38/38 [==============================] - 12s 316ms/step - loss: 0.0044 - accuracy: 0.0017\n",
      "Epoch 12/100\n",
      "38/38 [==============================] - 9s 234ms/step - loss: 0.0042 - accuracy: 0.0017\n",
      "Epoch 13/100\n",
      "38/38 [==============================] - 11s 294ms/step - loss: 0.0039 - accuracy: 0.0017\n",
      "Epoch 14/100\n",
      "38/38 [==============================] - 13s 336ms/step - loss: 0.0038 - accuracy: 0.0017\n",
      "Epoch 15/100\n",
      "38/38 [==============================] - 17s 441ms/step - loss: 0.0042 - accuracy: 0.0017\n",
      "Epoch 16/100\n",
      "38/38 [==============================] - 18s 465ms/step - loss: 0.0034 - accuracy: 0.0017\n",
      "Epoch 17/100\n",
      "38/38 [==============================] - 17s 441ms/step - loss: 0.0037 - accuracy: 0.0017\n",
      "Epoch 18/100\n",
      "38/38 [==============================] - 17s 456ms/step - loss: 0.0041 - accuracy: 0.0017\n",
      "Epoch 19/100\n",
      "38/38 [==============================] - 17s 449ms/step - loss: 0.0031 - accuracy: 0.0017\n",
      "Epoch 20/100\n",
      "38/38 [==============================] - 18s 463ms/step - loss: 0.0033 - accuracy: 0.0017\n",
      "Epoch 21/100\n",
      "38/38 [==============================] - 17s 446ms/step - loss: 0.0034 - accuracy: 0.0017\n",
      "Epoch 22/100\n",
      "38/38 [==============================] - 18s 465ms/step - loss: 0.0038 - accuracy: 0.0017\n",
      "Epoch 23/100\n",
      "38/38 [==============================] - 22s 575ms/step - loss: 0.0030 - accuracy: 0.0017\n",
      "Epoch 24/100\n",
      "38/38 [==============================] - 17s 440ms/step - loss: 0.0032 - accuracy: 0.0017\n",
      "Epoch 25/100\n",
      "38/38 [==============================] - 19s 494ms/step - loss: 0.0034 - accuracy: 0.0017\n",
      "Epoch 26/100\n",
      "38/38 [==============================] - 18s 484ms/step - loss: 0.0032 - accuracy: 0.0017\n",
      "Epoch 27/100\n",
      "38/38 [==============================] - 17s 435ms/step - loss: 0.0031 - accuracy: 0.0017\n",
      "Epoch 28/100\n",
      "38/38 [==============================] - 16s 428ms/step - loss: 0.0029 - accuracy: 0.0017\n",
      "Epoch 29/100\n",
      "38/38 [==============================] - 15s 396ms/step - loss: 0.0028 - accuracy: 0.0017\n",
      "Epoch 30/100\n",
      "38/38 [==============================] - 13s 346ms/step - loss: 0.0029 - accuracy: 0.0017\n",
      "Epoch 31/100\n",
      "38/38 [==============================] - 14s 359ms/step - loss: 0.0029 - accuracy: 0.0017\n",
      "Epoch 32/100\n",
      "38/38 [==============================] - 13s 346ms/step - loss: 0.0027 - accuracy: 0.0017\n",
      "Epoch 33/100\n",
      "38/38 [==============================] - 13s 352ms/step - loss: 0.0030 - accuracy: 0.0017\n",
      "Epoch 34/100\n",
      "38/38 [==============================] - 14s 371ms/step - loss: 0.0029 - accuracy: 0.0017\n",
      "Epoch 35/100\n",
      "38/38 [==============================] - 18s 476ms/step - loss: 0.0028 - accuracy: 0.0017\n",
      "Epoch 36/100\n",
      "38/38 [==============================] - 15s 379ms/step - loss: 0.0028 - accuracy: 0.0017\n",
      "Epoch 37/100\n",
      "38/38 [==============================] - 12s 308ms/step - loss: 0.0026 - accuracy: 0.0017\n",
      "Epoch 38/100\n",
      "38/38 [==============================] - 10s 270ms/step - loss: 0.0027 - accuracy: 0.0017\n",
      "Epoch 39/100\n",
      "38/38 [==============================] - 9s 249ms/step - loss: 0.0025 - accuracy: 0.0017\n",
      "Epoch 40/100\n",
      "38/38 [==============================] - 9s 235ms/step - loss: 0.0025 - accuracy: 0.0017\n",
      "Epoch 41/100\n",
      "38/38 [==============================] - 10s 261ms/step - loss: 0.0028 - accuracy: 0.0017\n",
      "Epoch 42/100\n",
      "38/38 [==============================] - 10s 268ms/step - loss: 0.0023 - accuracy: 0.0017\n",
      "Epoch 43/100\n",
      "38/38 [==============================] - 10s 253ms/step - loss: 0.0024 - accuracy: 0.0017\n",
      "Epoch 44/100\n",
      "38/38 [==============================] - 9s 234ms/step - loss: 0.0024 - accuracy: 0.0017\n",
      "Epoch 45/100\n",
      "38/38 [==============================] - 9s 229ms/step - loss: 0.0028 - accuracy: 0.0017\n",
      "Epoch 46/100\n",
      "38/38 [==============================] - 9s 227ms/step - loss: 0.0028 - accuracy: 0.0017\n",
      "Epoch 47/100\n",
      "38/38 [==============================] - 9s 225ms/step - loss: 0.0023 - accuracy: 0.0017\n",
      "Epoch 48/100\n",
      "38/38 [==============================] - 9s 226ms/step - loss: 0.0024 - accuracy: 0.0017\n",
      "Epoch 49/100\n",
      "38/38 [==============================] - 9s 228ms/step - loss: 0.0024 - accuracy: 0.0017\n",
      "Epoch 50/100\n",
      "38/38 [==============================] - 9s 226ms/step - loss: 0.0024 - accuracy: 0.0017\n",
      "Epoch 51/100\n",
      "38/38 [==============================] - 9s 229ms/step - loss: 0.0021 - accuracy: 0.0017\n",
      "Epoch 52/100\n",
      "38/38 [==============================] - 9s 224ms/step - loss: 0.0023 - accuracy: 0.0017\n",
      "Epoch 53/100\n",
      "38/38 [==============================] - 9s 227ms/step - loss: 0.0023 - accuracy: 0.0017\n",
      "Epoch 54/100\n",
      "38/38 [==============================] - 11s 303ms/step - loss: 0.0022 - accuracy: 0.0017\n",
      "Epoch 55/100\n",
      "38/38 [==============================] - 9s 227ms/step - loss: 0.0021 - accuracy: 0.0017\n",
      "Epoch 56/100\n",
      "38/38 [==============================] - 9s 228ms/step - loss: 0.0020 - accuracy: 0.0017\n",
      "Epoch 57/100\n",
      "38/38 [==============================] - 9s 228ms/step - loss: 0.0021 - accuracy: 0.0017\n",
      "Epoch 58/100\n",
      "38/38 [==============================] - 9s 225ms/step - loss: 0.0019 - accuracy: 0.0017\n",
      "Epoch 59/100\n",
      "38/38 [==============================] - 9s 230ms/step - loss: 0.0020 - accuracy: 0.0017\n",
      "Epoch 60/100\n",
      "38/38 [==============================] - 9s 234ms/step - loss: 0.0023 - accuracy: 0.0017\n",
      "Epoch 61/100\n",
      "38/38 [==============================] - 9s 224ms/step - loss: 0.0019 - accuracy: 0.0017\n",
      "Epoch 62/100\n",
      "38/38 [==============================] - 9s 228ms/step - loss: 0.0019 - accuracy: 0.0017\n",
      "Epoch 63/100\n",
      "38/38 [==============================] - 9s 228ms/step - loss: 0.0020 - accuracy: 0.0017\n",
      "Epoch 64/100\n",
      "38/38 [==============================] - 9s 226ms/step - loss: 0.0020 - accuracy: 0.0017\n",
      "Epoch 65/100\n",
      "38/38 [==============================] - 9s 228ms/step - loss: 0.0020 - accuracy: 0.0017\n",
      "Epoch 66/100\n",
      "38/38 [==============================] - 9s 223ms/step - loss: 0.0018 - accuracy: 0.0017\n",
      "Epoch 67/100\n",
      "38/38 [==============================] - 9s 226ms/step - loss: 0.0019 - accuracy: 0.0017\n",
      "Epoch 68/100\n",
      "38/38 [==============================] - 9s 226ms/step - loss: 0.0019 - accuracy: 0.0017\n",
      "Epoch 69/100\n",
      "38/38 [==============================] - 9s 230ms/step - loss: 0.0019 - accuracy: 0.0017\n",
      "Epoch 70/100\n",
      "38/38 [==============================] - 9s 226ms/step - loss: 0.0017 - accuracy: 0.0017\n",
      "Epoch 71/100\n",
      "38/38 [==============================] - 9s 224ms/step - loss: 0.0016 - accuracy: 0.0017\n",
      "Epoch 72/100\n",
      "38/38 [==============================] - 9s 227ms/step - loss: 0.0018 - accuracy: 0.0017\n",
      "Epoch 73/100\n",
      "38/38 [==============================] - 9s 225ms/step - loss: 0.0018 - accuracy: 0.0017\n",
      "Epoch 74/100\n",
      "38/38 [==============================] - 9s 226ms/step - loss: 0.0017 - accuracy: 0.0017\n",
      "Epoch 75/100\n",
      "38/38 [==============================] - 9s 226ms/step - loss: 0.0019 - accuracy: 0.0017\n",
      "Epoch 76/100\n",
      "38/38 [==============================] - 9s 227ms/step - loss: 0.0016 - accuracy: 0.0017\n",
      "Epoch 77/100\n",
      "38/38 [==============================] - 9s 226ms/step - loss: 0.0017 - accuracy: 0.0017\n",
      "Epoch 78/100\n",
      "38/38 [==============================] - 9s 226ms/step - loss: 0.0018 - accuracy: 0.0017\n",
      "Epoch 79/100\n",
      "38/38 [==============================] - 9s 226ms/step - loss: 0.0016 - accuracy: 0.0017\n",
      "Epoch 80/100\n"
     ]
    },
    {
     "name": "stdout",
     "output_type": "stream",
     "text": [
      "38/38 [==============================] - 9s 237ms/step - loss: 0.0016 - accuracy: 0.0017\n",
      "Epoch 81/100\n",
      "38/38 [==============================] - 9s 226ms/step - loss: 0.0016 - accuracy: 0.0017\n",
      "Epoch 82/100\n",
      "38/38 [==============================] - 11s 301ms/step - loss: 0.0016 - accuracy: 0.0017\n",
      "Epoch 83/100\n",
      "38/38 [==============================] - 9s 228ms/step - loss: 0.0016 - accuracy: 0.0017\n",
      "Epoch 84/100\n",
      "38/38 [==============================] - 8s 221ms/step - loss: 0.0015 - accuracy: 0.0017\n",
      "Epoch 85/100\n",
      "38/38 [==============================] - 9s 224ms/step - loss: 0.0016 - accuracy: 0.0017\n",
      "Epoch 86/100\n",
      "38/38 [==============================] - 8s 223ms/step - loss: 0.0015 - accuracy: 0.0017\n",
      "Epoch 87/100\n",
      "38/38 [==============================] - 8s 222ms/step - loss: 0.0015 - accuracy: 0.0017\n",
      "Epoch 88/100\n",
      "38/38 [==============================] - 8s 221ms/step - loss: 0.0014 - accuracy: 0.0017\n",
      "Epoch 89/100\n",
      "38/38 [==============================] - 8s 221ms/step - loss: 0.0016 - accuracy: 0.0017\n",
      "Epoch 90/100\n",
      "38/38 [==============================] - 8s 223ms/step - loss: 0.0015 - accuracy: 0.0017\n",
      "Epoch 91/100\n",
      "38/38 [==============================] - 9s 242ms/step - loss: 0.0014 - accuracy: 0.0017\n",
      "Epoch 92/100\n",
      "38/38 [==============================] - 10s 254ms/step - loss: 0.0015 - accuracy: 0.0017\n",
      "Epoch 93/100\n",
      "38/38 [==============================] - 9s 233ms/step - loss: 0.0014 - accuracy: 0.0017\n",
      "Epoch 94/100\n",
      "38/38 [==============================] - 9s 226ms/step - loss: 0.0013 - accuracy: 0.0017\n",
      "Epoch 95/100\n",
      "38/38 [==============================] - 9s 226ms/step - loss: 0.0016 - accuracy: 0.0017\n",
      "Epoch 96/100\n",
      "38/38 [==============================] - 9s 227ms/step - loss: 0.0013 - accuracy: 0.0017\n",
      "Epoch 97/100\n",
      "38/38 [==============================] - 9s 226ms/step - loss: 0.0012 - accuracy: 0.0017\n",
      "Epoch 98/100\n",
      "38/38 [==============================] - 8s 223ms/step - loss: 0.0013 - accuracy: 0.0017\n",
      "Epoch 99/100\n",
      "38/38 [==============================] - 8s 220ms/step - loss: 0.0013 - accuracy: 0.0017\n",
      "Epoch 100/100\n",
      "38/38 [==============================] - 9s 226ms/step - loss: 0.0015 - accuracy: 0.0017\n"
     ]
    },
    {
     "data": {
      "text/plain": [
       "<keras.callbacks.History at 0x1fc248a1c70>"
      ]
     },
     "execution_count": 19,
     "metadata": {},
     "output_type": "execute_result"
    }
   ],
   "source": [
    "regressor.fit(X_train, y_train, epochs = 100, batch_size = 32)"
   ]
  },
  {
   "cell_type": "markdown",
   "id": "9c7cd40c",
   "metadata": {},
   "source": [
    "## Part 3 - Making the predictions and visualising the results"
   ]
  },
  {
   "cell_type": "code",
   "execution_count": 20,
   "id": "18bb5fff",
   "metadata": {},
   "outputs": [
    {
     "data": {
      "text/html": [
       "<div>\n",
       "<style scoped>\n",
       "    .dataframe tbody tr th:only-of-type {\n",
       "        vertical-align: middle;\n",
       "    }\n",
       "\n",
       "    .dataframe tbody tr th {\n",
       "        vertical-align: top;\n",
       "    }\n",
       "\n",
       "    .dataframe thead th {\n",
       "        text-align: right;\n",
       "    }\n",
       "</style>\n",
       "<table border=\"1\" class=\"dataframe\">\n",
       "  <thead>\n",
       "    <tr style=\"text-align: right;\">\n",
       "      <th></th>\n",
       "      <th>Date</th>\n",
       "      <th>Open</th>\n",
       "      <th>High</th>\n",
       "      <th>Low</th>\n",
       "      <th>Close</th>\n",
       "      <th>Volume</th>\n",
       "    </tr>\n",
       "  </thead>\n",
       "  <tbody>\n",
       "    <tr>\n",
       "      <th>0</th>\n",
       "      <td>1/3/2017</td>\n",
       "      <td>778.81</td>\n",
       "      <td>789.63</td>\n",
       "      <td>775.80</td>\n",
       "      <td>786.14</td>\n",
       "      <td>1,657,300</td>\n",
       "    </tr>\n",
       "    <tr>\n",
       "      <th>1</th>\n",
       "      <td>1/4/2017</td>\n",
       "      <td>788.36</td>\n",
       "      <td>791.34</td>\n",
       "      <td>783.16</td>\n",
       "      <td>786.90</td>\n",
       "      <td>1,073,000</td>\n",
       "    </tr>\n",
       "    <tr>\n",
       "      <th>2</th>\n",
       "      <td>1/5/2017</td>\n",
       "      <td>786.08</td>\n",
       "      <td>794.48</td>\n",
       "      <td>785.02</td>\n",
       "      <td>794.02</td>\n",
       "      <td>1,335,200</td>\n",
       "    </tr>\n",
       "    <tr>\n",
       "      <th>3</th>\n",
       "      <td>1/6/2017</td>\n",
       "      <td>795.26</td>\n",
       "      <td>807.90</td>\n",
       "      <td>792.20</td>\n",
       "      <td>806.15</td>\n",
       "      <td>1,640,200</td>\n",
       "    </tr>\n",
       "    <tr>\n",
       "      <th>4</th>\n",
       "      <td>1/9/2017</td>\n",
       "      <td>806.40</td>\n",
       "      <td>809.97</td>\n",
       "      <td>802.83</td>\n",
       "      <td>806.65</td>\n",
       "      <td>1,272,400</td>\n",
       "    </tr>\n",
       "  </tbody>\n",
       "</table>\n",
       "</div>"
      ],
      "text/plain": [
       "       Date    Open    High     Low   Close     Volume\n",
       "0  1/3/2017  778.81  789.63  775.80  786.14  1,657,300\n",
       "1  1/4/2017  788.36  791.34  783.16  786.90  1,073,000\n",
       "2  1/5/2017  786.08  794.48  785.02  794.02  1,335,200\n",
       "3  1/6/2017  795.26  807.90  792.20  806.15  1,640,200\n",
       "4  1/9/2017  806.40  809.97  802.83  806.65  1,272,400"
      ]
     },
     "execution_count": 20,
     "metadata": {},
     "output_type": "execute_result"
    }
   ],
   "source": [
    "dataset_test = pd.read_csv('Google_Stock_Price_Test.csv')\n",
    "dataset_test.head()"
   ]
  },
  {
   "cell_type": "code",
   "execution_count": 21,
   "id": "cba2f1d8",
   "metadata": {},
   "outputs": [
    {
     "data": {
      "text/plain": [
       "array([[778.81],\n",
       "       [788.36],\n",
       "       [786.08],\n",
       "       [795.26],\n",
       "       [806.4 ],\n",
       "       [807.86],\n",
       "       [805.  ],\n",
       "       [807.14],\n",
       "       [807.48],\n",
       "       [807.08],\n",
       "       [805.81],\n",
       "       [805.12],\n",
       "       [806.91],\n",
       "       [807.25],\n",
       "       [822.3 ],\n",
       "       [829.62],\n",
       "       [837.81],\n",
       "       [834.71],\n",
       "       [814.66],\n",
       "       [796.86]])"
      ]
     },
     "execution_count": 21,
     "metadata": {},
     "output_type": "execute_result"
    }
   ],
   "source": [
    "real_stock_price = dataset_test.iloc[:, 1:2].values\n",
    "real_stock_price"
   ]
  },
  {
   "cell_type": "code",
   "execution_count": 22,
   "id": "e1a782cd",
   "metadata": {},
   "outputs": [
    {
     "data": {
      "text/plain": [
       "0     325.25\n",
       "1     331.27\n",
       "2     329.83\n",
       "3     328.34\n",
       "4     322.04\n",
       "       ...  \n",
       "15    829.62\n",
       "16    837.81\n",
       "17    834.71\n",
       "18    814.66\n",
       "19    796.86\n",
       "Name: Open, Length: 1278, dtype: float64"
      ]
     },
     "execution_count": 22,
     "metadata": {},
     "output_type": "execute_result"
    }
   ],
   "source": [
    "dataset_total = pd.concat((dataset_train['Open'], dataset_test['Open']), axis = 0)\n",
    "dataset_total"
   ]
  },
  {
   "cell_type": "code",
   "execution_count": 23,
   "id": "a88fdcac",
   "metadata": {},
   "outputs": [
    {
     "data": {
      "text/plain": [
       "array([779.  , 779.66, 777.71, 786.66, 783.76, 781.22, 781.65, 779.8 ,\n",
       "       787.85, 798.24, 803.3 , 795.  , 804.9 , 816.68, 806.34, 801.  ,\n",
       "       808.35, 795.47, 782.89, 778.2 , 767.25, 750.66, 774.5 , 783.4 ,\n",
       "       779.94, 791.17, 756.54, 755.6 , 746.97, 755.2 , 766.92, 771.37,\n",
       "       762.61, 772.63, 767.73, 764.26, 760.  , 771.53, 770.07, 757.44,\n",
       "       744.59, 757.71, 764.73, 761.  , 772.48, 780.  , 785.04, 793.9 ,\n",
       "       797.4 , 797.34, 800.4 , 790.22, 796.76, 795.84, 792.36, 790.9 ,\n",
       "       790.68, 793.7 , 783.33, 782.75, 778.81, 788.36, 786.08, 795.26,\n",
       "       806.4 , 807.86, 805.  , 807.14, 807.48, 807.08, 805.81, 805.12,\n",
       "       806.91, 807.25, 822.3 , 829.62, 837.81, 834.71, 814.66, 796.86])"
      ]
     },
     "execution_count": 23,
     "metadata": {},
     "output_type": "execute_result"
    }
   ],
   "source": [
    "inputs = dataset_total[len(dataset_total) - len(dataset_test) - 60:].values\n",
    "inputs"
   ]
  },
  {
   "cell_type": "code",
   "execution_count": 24,
   "id": "c1a55156",
   "metadata": {},
   "outputs": [
    {
     "data": {
      "text/plain": [
       "array([[779.  ],\n",
       "       [779.66],\n",
       "       [777.71],\n",
       "       [786.66],\n",
       "       [783.76],\n",
       "       [781.22],\n",
       "       [781.65],\n",
       "       [779.8 ],\n",
       "       [787.85],\n",
       "       [798.24],\n",
       "       [803.3 ],\n",
       "       [795.  ],\n",
       "       [804.9 ],\n",
       "       [816.68],\n",
       "       [806.34],\n",
       "       [801.  ],\n",
       "       [808.35],\n",
       "       [795.47],\n",
       "       [782.89],\n",
       "       [778.2 ],\n",
       "       [767.25],\n",
       "       [750.66],\n",
       "       [774.5 ],\n",
       "       [783.4 ],\n",
       "       [779.94],\n",
       "       [791.17],\n",
       "       [756.54],\n",
       "       [755.6 ],\n",
       "       [746.97],\n",
       "       [755.2 ],\n",
       "       [766.92],\n",
       "       [771.37],\n",
       "       [762.61],\n",
       "       [772.63],\n",
       "       [767.73],\n",
       "       [764.26],\n",
       "       [760.  ],\n",
       "       [771.53],\n",
       "       [770.07],\n",
       "       [757.44],\n",
       "       [744.59],\n",
       "       [757.71],\n",
       "       [764.73],\n",
       "       [761.  ],\n",
       "       [772.48],\n",
       "       [780.  ],\n",
       "       [785.04],\n",
       "       [793.9 ],\n",
       "       [797.4 ],\n",
       "       [797.34],\n",
       "       [800.4 ],\n",
       "       [790.22],\n",
       "       [796.76],\n",
       "       [795.84],\n",
       "       [792.36],\n",
       "       [790.9 ],\n",
       "       [790.68],\n",
       "       [793.7 ],\n",
       "       [783.33],\n",
       "       [782.75],\n",
       "       [778.81],\n",
       "       [788.36],\n",
       "       [786.08],\n",
       "       [795.26],\n",
       "       [806.4 ],\n",
       "       [807.86],\n",
       "       [805.  ],\n",
       "       [807.14],\n",
       "       [807.48],\n",
       "       [807.08],\n",
       "       [805.81],\n",
       "       [805.12],\n",
       "       [806.91],\n",
       "       [807.25],\n",
       "       [822.3 ],\n",
       "       [829.62],\n",
       "       [837.81],\n",
       "       [834.71],\n",
       "       [814.66],\n",
       "       [796.86]])"
      ]
     },
     "execution_count": 24,
     "metadata": {},
     "output_type": "execute_result"
    }
   ],
   "source": [
    "inputs = inputs.reshape(-1,1)\n",
    "inputs"
   ]
  },
  {
   "cell_type": "code",
   "execution_count": 25,
   "id": "67e80783",
   "metadata": {},
   "outputs": [
    {
     "data": {
      "text/plain": [
       "array([[0.9299055 ],\n",
       "       [0.93113327],\n",
       "       [0.92750577],\n",
       "       [0.94415507],\n",
       "       [0.93876032],\n",
       "       [0.93403527],\n",
       "       [0.93483518],\n",
       "       [0.9313937 ],\n",
       "       [0.94636878],\n",
       "       [0.96569685],\n",
       "       [0.97510976],\n",
       "       [0.95966962],\n",
       "       [0.97808617],\n",
       "       [1.        ],\n",
       "       [0.98076494],\n",
       "       [0.97083116],\n",
       "       [0.98450406],\n",
       "       [0.96054394],\n",
       "       [0.9371419 ],\n",
       "       [0.92841729],\n",
       "       [0.90804747],\n",
       "       [0.8771858 ],\n",
       "       [0.92153434],\n",
       "       [0.93809063],\n",
       "       [0.93165414],\n",
       "       [0.95254483],\n",
       "       [0.88812412],\n",
       "       [0.88637547],\n",
       "       [0.87032145],\n",
       "       [0.88563137],\n",
       "       [0.90743359],\n",
       "       [0.91571173],\n",
       "       [0.89941588],\n",
       "       [0.91805566],\n",
       "       [0.9089404 ],\n",
       "       [0.9024853 ],\n",
       "       [0.89456061],\n",
       "       [0.91600938],\n",
       "       [0.9132934 ],\n",
       "       [0.88979835],\n",
       "       [0.86589404],\n",
       "       [0.89030062],\n",
       "       [0.90335962],\n",
       "       [0.89642086],\n",
       "       [0.91777662],\n",
       "       [0.93176576],\n",
       "       [0.94114145],\n",
       "       [0.95762334],\n",
       "       [0.96413424],\n",
       "       [0.96402262],\n",
       "       [0.96971501],\n",
       "       [0.95077759],\n",
       "       [0.96294367],\n",
       "       [0.96123223],\n",
       "       [0.95475854],\n",
       "       [0.95204256],\n",
       "       [0.95163331],\n",
       "       [0.95725128],\n",
       "       [0.93796041],\n",
       "       [0.93688146],\n",
       "       [0.92955205],\n",
       "       [0.94731751],\n",
       "       [0.94307612],\n",
       "       [0.96015329],\n",
       "       [0.98087655],\n",
       "       [0.98359253],\n",
       "       [0.97827219],\n",
       "       [0.98225314],\n",
       "       [0.98288563],\n",
       "       [0.98214153],\n",
       "       [0.979779  ],\n",
       "       [0.97849542],\n",
       "       [0.98182528],\n",
       "       [0.98245777],\n",
       "       [1.01045465],\n",
       "       [1.02407173],\n",
       "       [1.03930724],\n",
       "       [1.03354044],\n",
       "       [0.99624228],\n",
       "       [0.9631297 ]])"
      ]
     },
     "execution_count": 25,
     "metadata": {},
     "output_type": "execute_result"
    }
   ],
   "source": [
    "inputs = sc.transform(inputs)\n",
    "inputs"
   ]
  },
  {
   "cell_type": "code",
   "execution_count": 26,
   "id": "087072ab",
   "metadata": {},
   "outputs": [
    {
     "data": {
      "text/plain": [
       "array([[0.9299055 , 0.93113327, 0.92750577, ..., 0.95725128, 0.93796041,\n",
       "        0.93688146],\n",
       "       [0.93113327, 0.92750577, 0.94415507, ..., 0.93796041, 0.93688146,\n",
       "        0.92955205],\n",
       "       [0.92750577, 0.94415507, 0.93876032, ..., 0.93688146, 0.92955205,\n",
       "        0.94731751],\n",
       "       ...,\n",
       "       [0.96054394, 0.9371419 , 0.92841729, ..., 1.01045465, 1.02407173,\n",
       "        1.03930724],\n",
       "       [0.9371419 , 0.92841729, 0.90804747, ..., 1.02407173, 1.03930724,\n",
       "        1.03354044],\n",
       "       [0.92841729, 0.90804747, 0.8771858 , ..., 1.03930724, 1.03354044,\n",
       "        0.99624228]])"
      ]
     },
     "execution_count": 26,
     "metadata": {},
     "output_type": "execute_result"
    }
   ],
   "source": [
    "X_test = []\n",
    "for i in range(60, 80):\n",
    "    X_test.append(inputs[i-60:i, 0])\n",
    "X_test = np.array(X_test)\n",
    "X_test"
   ]
  },
  {
   "cell_type": "code",
   "execution_count": 27,
   "id": "e2558998",
   "metadata": {},
   "outputs": [
    {
     "data": {
      "text/plain": [
       "array([[[0.9299055 ],\n",
       "        [0.93113327],\n",
       "        [0.92750577],\n",
       "        ...,\n",
       "        [0.95725128],\n",
       "        [0.93796041],\n",
       "        [0.93688146]],\n",
       "\n",
       "       [[0.93113327],\n",
       "        [0.92750577],\n",
       "        [0.94415507],\n",
       "        ...,\n",
       "        [0.93796041],\n",
       "        [0.93688146],\n",
       "        [0.92955205]],\n",
       "\n",
       "       [[0.92750577],\n",
       "        [0.94415507],\n",
       "        [0.93876032],\n",
       "        ...,\n",
       "        [0.93688146],\n",
       "        [0.92955205],\n",
       "        [0.94731751]],\n",
       "\n",
       "       ...,\n",
       "\n",
       "       [[0.96054394],\n",
       "        [0.9371419 ],\n",
       "        [0.92841729],\n",
       "        ...,\n",
       "        [1.01045465],\n",
       "        [1.02407173],\n",
       "        [1.03930724]],\n",
       "\n",
       "       [[0.9371419 ],\n",
       "        [0.92841729],\n",
       "        [0.90804747],\n",
       "        ...,\n",
       "        [1.02407173],\n",
       "        [1.03930724],\n",
       "        [1.03354044]],\n",
       "\n",
       "       [[0.92841729],\n",
       "        [0.90804747],\n",
       "        [0.8771858 ],\n",
       "        ...,\n",
       "        [1.03930724],\n",
       "        [1.03354044],\n",
       "        [0.99624228]]])"
      ]
     },
     "execution_count": 27,
     "metadata": {},
     "output_type": "execute_result"
    }
   ],
   "source": [
    "X_test = np.reshape(X_test, (X_test.shape[0], X_test.shape[1], 1))\n",
    "X_test"
   ]
  },
  {
   "cell_type": "code",
   "execution_count": 28,
   "id": "7e7f3578",
   "metadata": {},
   "outputs": [
    {
     "name": "stdout",
     "output_type": "stream",
     "text": [
      "1/1 [==============================] - 4s 4s/step\n"
     ]
    },
    {
     "data": {
      "text/plain": [
       "array([[0.9610174 ],\n",
       "       [0.9553168 ],\n",
       "       [0.9568459 ],\n",
       "       [0.96079934],\n",
       "       [0.9675597 ],\n",
       "       [0.978716  ],\n",
       "       [0.98800075],\n",
       "       [0.9899205 ],\n",
       "       [0.98871887],\n",
       "       [0.9882469 ],\n",
       "       [0.98906696],\n",
       "       [0.98980355],\n",
       "       [0.9899839 ],\n",
       "       [0.9911498 ],\n",
       "       [0.99299765],\n",
       "       [1.0026103 ],\n",
       "       [1.016718  ],\n",
       "       [1.0302992 ],\n",
       "       [1.0353994 ],\n",
       "       [1.0234742 ]], dtype=float32)"
      ]
     },
     "execution_count": 28,
     "metadata": {},
     "output_type": "execute_result"
    }
   ],
   "source": [
    "predicted_stock_price = regressor.predict(X_test)\n",
    "predicted_stock_price"
   ]
  },
  {
   "cell_type": "code",
   "execution_count": 29,
   "id": "c6603687",
   "metadata": {},
   "outputs": [
    {
     "data": {
      "text/plain": [
       "array([[795.7245 ],\n",
       "       [792.66003],\n",
       "       [793.48206],\n",
       "       [795.60724],\n",
       "       [799.2414 ],\n",
       "       [805.2386 ],\n",
       "       [810.2297 ],\n",
       "       [811.26166],\n",
       "       [810.61566],\n",
       "       [810.362  ],\n",
       "       [810.8028 ],\n",
       "       [811.1988 ],\n",
       "       [811.2957 ],\n",
       "       [811.9224 ],\n",
       "       [812.9158 ],\n",
       "       [818.0832 ],\n",
       "       [825.66693],\n",
       "       [832.9676 ],\n",
       "       [835.7093 ],\n",
       "       [829.29877]], dtype=float32)"
      ]
     },
     "execution_count": 29,
     "metadata": {},
     "output_type": "execute_result"
    }
   ],
   "source": [
    "predicted_stock_price = sc.inverse_transform(predicted_stock_price)\n",
    "predicted_stock_price"
   ]
  },
  {
   "cell_type": "code",
   "execution_count": 30,
   "id": "c806adac",
   "metadata": {
    "scrolled": true
   },
   "outputs": [
    {
     "data": {
      "image/png": "[encoded data removed]",
      "text/plain": [
       "<Figure size 640x480 with 1 Axes>"
      ]
     },
     "metadata": {},
     "output_type": "display_data"
    }
   ],
   "source": [
    "plt.plot(real_stock_price, color = 'red', label = 'Real Google Stock Price')\n",
    "plt.plot(predicted_stock_price, color = 'blue', label = 'Predicted Google Stock Price')\n",
    "plt.title('Google Stock Price Prediction')\n",
    "plt.xlabel('Time')\n",
    "plt.ylabel('Google Stock Price')\n",
    "plt.legend()\n",
    "plt.show()"
   ]
  },
  {
   "cell_type": "code",
   "execution_count": null,
   "id": "50fedfee",
   "metadata": {},
   "outputs": [],
   "source": []
  }
 ],
 "metadata": {
  "kernelspec": {
   "display_name": "Python 3 (ipykernel)",
   "language": "python",
   "name": "python3"
  },
  "language_info": {
   "codemirror_mode": {
    "name": "ipython",
    "version": 3
   },
   "file_extension": ".py",
   "mimetype": "text/x-python",
   "name": "python",
   "nbconvert_exporter": "python",
   "pygments_lexer": "ipython3",
   "version": "3.9.13"
  }
 },
 "nbformat": 4,
 "nbformat_minor": 5
}
